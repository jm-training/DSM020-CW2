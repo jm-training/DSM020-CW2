{
 "cells": [
  {
   "cell_type": "markdown",
   "metadata": {},
   "source": [
    "## Using a pre-trained embedding from the TensorFlow Hub to categorise books\n",
    "\n",
    "Final modelling scenario whereby I am utilzing a pre-trained embedding available from the TensorFlow Hub and code created by AIEngineering [online] available at https://www.youtube.com/watch?v=dkpS2g4K08s. This code csreate an end to end NLP pipeline starting from cleaning text data, setting NLP pipeline, model selection and model evaluation while handling handling imbalanced a dataset.\n",
    "\n",
    "basic application of transfer learning with TensorFlow Hub and Keras."
   ]
  },
  {
   "cell_type": "markdown",
   "metadata": {},
   "source": [
    "## 1. Import required Python & TF packages"
   ]
  },
  {
   "cell_type": "code",
   "execution_count": 188,
   "metadata": {},
   "outputs": [],
   "source": [
    "import pandas as pd\n",
    "import numpy as np   \n",
    "import datetime\n",
    "import tensorflow as tf\n",
    "import tensorflow_hub as hub\n",
    "from sklearn.utils import class_weight\n",
    "from sklearn.model_selection import train_test_split\n",
    "from sklearn.metrics import classification_report, confusion_matrix, ConfusionMatrixDisplay\n",
    "import seaborn as sns"
   ]
  },
  {
   "cell_type": "markdown",
   "metadata": {},
   "source": [
    "## 2. TensorFlow environment"
   ]
  },
  {
   "cell_type": "code",
   "execution_count": 168,
   "metadata": {},
   "outputs": [
    {
     "name": "stdout",
     "output_type": "stream",
     "text": [
      "Version:  2.6.0\n",
      "Eager mode:  True\n",
      "Hub version:  0.12.0\n",
      "GPU is NOT AVAILABLE\n"
     ]
    }
   ],
   "source": [
    "print(\"Version: \", tf.__version__)\n",
    "print(\"Eager mode: \", tf.executing_eagerly())\n",
    "print(\"Hub version: \", hub.__version__)\n",
    "print(\"GPU is\", \"available\" if tf.config.list_physical_devices(\"GPU\") else \"NOT AVAILABLE\")"
   ]
  },
  {
   "cell_type": "markdown",
   "metadata": {},
   "source": [
    "## 3. Data preprocessing"
   ]
  },
  {
   "cell_type": "code",
   "execution_count": 169,
   "metadata": {},
   "outputs": [],
   "source": [
    "#################### a. Import finalised data from CW1 ####################\n",
    "\n",
    "# Keep the original unprocessed text and target (='Subject')\n",
    "df=pd.read_csv(r\"C:\\Users\\jmd05\\DSM-020\\4. CW1\\Data\\all1.csv\", index_col=0, usecols=['Synopsis','Subject']).reset_index()\n",
    "#df.shape #656, 2"
   ]
  },
  {
   "cell_type": "code",
   "execution_count": 170,
   "metadata": {},
   "outputs": [
    {
     "data": {
      "text/plain": [
       "{0: 0.8913043478260869,\n",
       " 1: 0.9010989010989011,\n",
       " 2: 0.9213483146067416,\n",
       " 3: 0.9318181818181818,\n",
       " 4: 1.0379746835443038,\n",
       " 5: 1.0933333333333333,\n",
       " 6: 1.1388888888888888,\n",
       " 7: 1.1714285714285715}"
      ]
     },
     "execution_count": 170,
     "metadata": {},
     "output_type": "execute_result"
    }
   ],
   "source": [
    "#################### b. Create a dictionary comprising re-balancing weights for each target class ####################\n",
    "\n",
    "class_weights=list(class_weight.compute_class_weight('balanced', np.unique(df['Subject']), df['Subject']))\n",
    "class_weights.sort()\n",
    "weights={}\n",
    "for index, weight in enumerate(class_weights) :\n",
    "    weights[index]=weight\n",
    "weights"
   ]
  },
  {
   "cell_type": "code",
   "execution_count": 171,
   "metadata": {},
   "outputs": [],
   "source": [
    "##################### c. Create the required subsets of data of model build and evaluations ####################\n",
    "\n",
    "# This function was written by Stackoverflow user piRSquared at \n",
    "# https://stackoverflow.com/questions/38250710/how-to-split-data-into-3-sets-train-validation-and-test\n",
    "# def train_validate_test_split(df, train_percent=.5, validate_percent=.25, seed=None):\n",
    "#     np.random.seed(seed)\n",
    "#     perm = np.random.permutation(df.index)\n",
    "#     m = len(df.index)\n",
    "#     train_end = int(train_percent * m)\n",
    "#     validate_end = int(validate_percent * m) + train_end\n",
    "#     train = df.iloc[perm[:train_end]]\n",
    "#     validate = df.iloc[perm[train_end:validate_end]]\n",
    "#     test = df.iloc[perm[validate_end:]]\n",
    "#     return train, validate, test\n",
    "\n",
    "# train_data, validation_data, test_data = train_validate_test_split(df)\n",
    "\n",
    "# Decided dataset is too small for a hold out (the accuracy results were poor) so just use train and validation\n",
    "train, valid = train_test_split(df, test_size=0.30, random_state=42)"
   ]
  },
  {
   "cell_type": "code",
   "execution_count": 39,
   "metadata": {},
   "outputs": [],
   "source": [
    "#train.shape      # 459\n",
    "#valid.shape      # 197"
   ]
  },
  {
   "cell_type": "code",
   "execution_count": 173,
   "metadata": {},
   "outputs": [],
   "source": [
    "##################### d. Create Tensor slices #####################\n",
    "\n",
    "train1 = tf.data.Dataset.from_tensor_slices((train['Synopsis'].values, train['Subject'].values))\n",
    "valid1 = tf.data.Dataset.from_tensor_slices((valid['Synopsis'].values, valid['Subject'].values))\n",
    "#test = tf.data.Dataset.from_tensor_slices((test_data['Synopsis'].values, test_data['Subject'].values))"
   ]
  },
  {
   "cell_type": "code",
   "execution_count": 174,
   "metadata": {},
   "outputs": [
    {
     "name": "stdout",
     "output_type": "stream",
     "text": [
      "tf.Tensor([b'for curious readers young and old a rich and colorful history of religion from humanity s earliest days to our own contentious times in an era of hardening religious attitudes and explosive religious violence this book offers a welcome antidote richard holloway retells the entire history of religion from the dawn of religious belief to the twenty first century with deepest respect and a keen commitment to accuracy writing for those with faith and those without and especially for young readers he encourages curiosity and tolerance accentuates nuance and mystery and calmly restores a sense of the value of faith ranging far beyond the major world religions of judaism islam christianity buddhism and hinduism holloway also examines where religious belief comes from the search for meaning throughout history today s fascinations with scientology and creationism religiously motivated violence hostilities between religious people and secularists and more holloway proves an empathic yet discerning guide to the enduring significance of faith and its power from ancient times to our own'], shape=(1,), dtype=string) tf.Tensor([b'spirituality beliefs'], shape=(1,), dtype=string)\n"
     ]
    }
   ],
   "source": [
    "# Review an example of tensor data - the synopses have not been processed in any way\n",
    "\n",
    "train_example_synopsis, train_example_subject = next(iter(train1.batch(1)))\n",
    "print(train_example_synopsis, train_example_subject)"
   ]
  },
  {
   "cell_type": "code",
   "execution_count": 175,
   "metadata": {},
   "outputs": [],
   "source": [
    "##################### e. One hot encode the categorical target labels for NN processing #####################\n",
    "\n",
    "# Note this section of code was adapted from that created by AIEngineering found online at \n",
    "# https://www.youtube.com/watch?v=dkpS2g4K08s\n",
    "\n",
    "# Create a immutable look-up table that can be referred to in one hot encoding (OHE) process\n",
    "table = tf.lookup.StaticHashTable(initializer=tf.lookup.KeyValueTensorInitializer(\n",
    "                                  keys=tf.constant(['romantic fiction','history','sports leisure','food drink','entertainment',\n",
    "                                                    'spirituality beliefs','science technology medicine',\n",
    "                                                    'business finance law']), \n",
    "                                  values=tf.constant([0,1,2,3,4,5,6,7])),\n",
    "                                  default_value=tf.constant(-1),\n",
    "                                  name=\"target_encoding\")\n",
    "\n",
    "@tf.function\n",
    "def target(x):\n",
    "  return table.lookup(x)\n",
    "\n",
    "# Define OHE function to transform the lable's 1-d representation to an 8-d array representation \n",
    "# (8 being the number of unique labels)\n",
    "def fetch(text, labels):\n",
    "  return text, tf.one_hot(target(labels),8)\n",
    "\n",
    "# Undertake OHE on each element in the tensor slides\n",
    "train2=train1.map(fetch)\n",
    "valid2=valid1.map(fetch)\n",
    "#test1=test.map(fetch)"
   ]
  },
  {
   "cell_type": "code",
   "execution_count": 176,
   "metadata": {},
   "outputs": [
    {
     "data": {
      "text/plain": [
       "(<tf.Tensor: shape=(), dtype=string, numpy=b'for curious readers young and old a rich and colorful history of religion from humanity s earliest days to our own contentious times in an era of hardening religious attitudes and explosive religious violence this book offers a welcome antidote richard holloway retells the entire history of religion from the dawn of religious belief to the twenty first century with deepest respect and a keen commitment to accuracy writing for those with faith and those without and especially for young readers he encourages curiosity and tolerance accentuates nuance and mystery and calmly restores a sense of the value of faith ranging far beyond the major world religions of judaism islam christianity buddhism and hinduism holloway also examines where religious belief comes from the search for meaning throughout history today s fascinations with scientology and creationism religiously motivated violence hostilities between religious people and secularists and more holloway proves an empathic yet discerning guide to the enduring significance of faith and its power from ancient times to our own'>,\n",
       " <tf.Tensor: shape=(8,), dtype=float32, numpy=array([0., 0., 0., 0., 0., 1., 0., 0.], dtype=float32)>)"
      ]
     },
     "execution_count": 176,
     "metadata": {},
     "output_type": "execute_result"
    }
   ],
   "source": [
    "# Review example of a transformed target label\n",
    "next(iter(train2))"
   ]
  },
  {
   "cell_type": "markdown",
   "metadata": {},
   "source": [
    "## 4. Model build"
   ]
  },
  {
   "cell_type": "code",
   "execution_count": 177,
   "metadata": {},
   "outputs": [
    {
     "data": {
      "text/plain": [
       "<tf.Tensor: shape=(1, 50), dtype=float32, numpy=\n",
       "array([[ 0.15719491, -0.1995717 ,  0.24811843,  0.14680661, -0.4304029 ,\n",
       "        -0.42705414, -0.81705767, -0.37310374, -0.84438545,  0.08288607,\n",
       "        -0.10753941,  0.06627724, -0.06985325, -0.13207957,  0.20052053,\n",
       "        -0.38404042, -0.24509044, -0.70608956,  0.31535238, -0.40940908,\n",
       "        -0.00983365, -0.03260244,  1.3918756 , -0.01981452, -0.65770364,\n",
       "         0.6233454 , -0.72337645, -0.26033735,  0.5417876 , -0.9557794 ,\n",
       "        -0.13185675,  0.34277746,  0.44721085,  0.08461031, -1.093546  ,\n",
       "        -0.20781052,  0.02075935,  0.08639432, -0.07590501, -1.1476374 ,\n",
       "         0.59333414,  0.12367294, -0.5802365 ,  0.41011825,  0.09539206,\n",
       "        -0.40901104,  0.37202957,  0.52231544,  0.4361763 , -0.0992899 ]],\n",
       "      dtype=float32)>"
      ]
     },
     "execution_count": 177,
     "metadata": {},
     "output_type": "execute_result"
    }
   ],
   "source": [
    "#################### a. Create a Keras layer that uses a TensorFlow Hub model to embed the sentences ####################\n",
    "\n",
    "#embedding = \"https://tfhub.dev/google/nnlm-en-dim50/2\"\n",
    "embedding = \"https://tfhub.dev/google/nnlm-en-dim50-with-normalization/2\"\n",
    "hub_layer = hub.KerasLayer(embedding, input_shape=[], \n",
    "                          dtype=tf.string, trainable=True)\n",
    "\n",
    "#embedding = \"https://tfhub.dev/google/nnlm-en-dim128/1\"\n",
    "# embedding = \"https://tfhub.dev/google/nnlm-zh-dim128-with-normalization/2\"\n",
    "# hub_layer = hub.KerasLayer(embedding, output_shape=[128], input_shape=[], \n",
    "#                            dtype=tf.string, trainable=True)\n",
    "\n",
    "# Review the embeddings for the example above\n",
    "hub_layer(train_example_synopsis)"
   ]
  },
  {
   "cell_type": "code",
   "execution_count": 178,
   "metadata": {},
   "outputs": [
    {
     "name": "stdout",
     "output_type": "stream",
     "text": [
      "Model: \"sequential_2\"\n",
      "_________________________________________________________________\n",
      "Layer (type)                 Output Shape              Param #   \n",
      "=================================================================\n",
      "keras_layer_2 (KerasLayer)   (None, 50)                48190600  \n",
      "_________________________________________________________________\n",
      "dense_4 (Dense)              (None, 16)                816       \n",
      "_________________________________________________________________\n",
      "dense_5 (Dense)              (None, 8)                 136       \n",
      "=================================================================\n",
      "Total params: 48,191,552\n",
      "Trainable params: 48,191,552\n",
      "Non-trainable params: 0\n",
      "_________________________________________________________________\n"
     ]
    }
   ],
   "source": [
    "#################### b. Build full model ####################\n",
    "\n",
    "model = tf.keras.Sequential()\n",
    "model.add(hub_layer)\n",
    "#model.add(tf.keras.layers.Dense(64, activation='relu'))\n",
    "#model.add(tf.keras.layers.Dense(32, activation='relu'))\n",
    "model.add(tf.keras.layers.Dense(16, activation='relu'))\n",
    "model.add(tf.keras.layers.Dense(8, activation='softmax'))\n",
    "\n",
    "# Review model structure\n",
    "model.summary()"
   ]
  },
  {
   "cell_type": "code",
   "execution_count": 179,
   "metadata": {},
   "outputs": [],
   "source": [
    "#################### c. Compile the model ####################\n",
    "\n",
    "# Set up Tensor board history\n",
    "tensorboard_callback = tf.keras.callbacks.TensorBoard(log_dir=\"logs\")\n",
    "\n",
    "model.compile(optimizer='adam',\n",
    "              loss=tf.keras.losses.CategoricalCrossentropy(from_logits=True),\n",
    "              metrics=['accuracy'])\n",
    "\n",
    "# Set up Tensor board history\n",
    "# log_dir = \"logs/fit/\" + datetime.datetime.now().strftime(\"%Y%m%d-%H%M%S\")\n",
    "# tensorboard_callback = tf.keras.callbacks.TensorBoard(log_dir=log_dir, histogram_freq=1)"
   ]
  },
  {
   "cell_type": "code",
   "execution_count": 180,
   "metadata": {},
   "outputs": [
    {
     "name": "stdout",
     "output_type": "stream",
     "text": [
      "Epoch 1/10\n",
      "31/31 [==============================] - 63s 2s/step - loss: 2.1039 - accuracy: 0.1634 - val_loss: 2.0762 - val_accuracy: 0.1472\n",
      "Epoch 2/10\n",
      "31/31 [==============================] - 36s 1s/step - loss: 1.8175 - accuracy: 0.4139 - val_loss: 1.9211 - val_accuracy: 0.2741\n",
      "Epoch 3/10\n",
      "31/31 [==============================] - 37s 1s/step - loss: 1.5456 - accuracy: 0.5621 - val_loss: 1.7757 - val_accuracy: 0.3350\n",
      "Epoch 4/10\n",
      "31/31 [==============================] - 36s 1s/step - loss: 1.2704 - accuracy: 0.7277 - val_loss: 1.6110 - val_accuracy: 0.4721\n",
      "Epoch 5/10\n",
      "31/31 [==============================] - 36s 1s/step - loss: 1.0048 - accuracy: 0.8867 - val_loss: 1.4819 - val_accuracy: 0.5533\n",
      "Epoch 6/10\n",
      "31/31 [==============================] - 36s 1s/step - loss: 0.7614 - accuracy: 0.9368 - val_loss: 1.3713 - val_accuracy: 0.5888\n",
      "Epoch 7/10\n",
      "31/31 [==============================] - 36s 1s/step - loss: 0.5535 - accuracy: 0.9695 - val_loss: 1.2754 - val_accuracy: 0.6244\n",
      "Epoch 8/10\n",
      "31/31 [==============================] - 36s 1s/step - loss: 0.3832 - accuracy: 0.9826 - val_loss: 1.2137 - val_accuracy: 0.6345\n",
      "Epoch 9/10\n",
      "31/31 [==============================] - 36s 1s/step - loss: 0.2621 - accuracy: 0.9913 - val_loss: 1.1818 - val_accuracy: 0.6244\n",
      "Epoch 10/10\n",
      "31/31 [==============================] - 36s 1s/step - loss: 0.1771 - accuracy: 1.0000 - val_loss: 1.1486 - val_accuracy: 0.6345\n"
     ]
    }
   ],
   "source": [
    "#################### d. Train the model #################### \n",
    "\n",
    "history = model.fit(train2.shuffle(197).batch(15),\n",
    "                    epochs=10,\n",
    "                    validation_data=valid2.batch(15),\n",
    "                    verbose=1,\n",
    "                    class_weight=weights,\n",
    "                    callbacks=[tensorboard_callback])\n",
    "\n",
    "# With extra layer of 128, 64, 8:\n",
    "\n",
    "# 1. Using 50-d normalisation embedding get around 60% for validation accuracy using no weights, batch size=10 and no. of epochs=5\n",
    "# 2. Using 128-d normalisation embedding get around 63% for validation accuracy using weights, batch size=10 and no. of epochs=5\n",
    "# 3. Using 128-d normalisation embedding get 67.1% for test1 accuracy using weights, batch size=20 and no. of epochs=5\n",
    "# 4. Using 128-d normalisation embedding get around 66% for validation accuracy using weights, batch size=30 and no. of epochs=5\n",
    "# 5. Using 128-d normalisation embedding get 66.5% for test1 accuracy using weights, batch size=15 and no. of epochs=5\n",
    "# 6. Using 128-d normalisation embedding get 66.5% for test1 accuracy using weights, batch size=20 and no. of epochs=10\n",
    "# 7. Using 128-d normalisation embedding get 66.5% for test1 accuracy using weights, batch size=100 and no. of epochs=5\n",
    "\n",
    "# With extra layer of 128, 64, 32, 8:\n",
    "# 8. Using 128-d normalisation embedding get 66.5% for test1 accuracy using weights, batch size=100 and no. of epochs=5\n",
    "# 9. Using 128-d normalisation embedding get 65.59% for test1 accuracy using weights, batch size=20 and no. of epochs=5\n",
    "\n",
    "# Use the solution 3."
   ]
  },
  {
   "cell_type": "code",
   "execution_count": 181,
   "metadata": {},
   "outputs": [
    {
     "name": "stdout",
     "output_type": "stream",
     "text": [
      "The tensorboard extension is already loaded. To reload it, use:\n",
      "  %reload_ext tensorboard\n"
     ]
    },
    {
     "data": {
      "text/plain": [
       "Reusing TensorBoard on port 6006 (pid 3416), started 3:20:55 ago. (Use '!kill 3416' to kill it.)"
      ]
     },
     "metadata": {},
     "output_type": "display_data"
    },
    {
     "data": {
      "text/html": [
       "\n",
       "      <iframe id=\"tensorboard-frame-97f4a4db2752bdd5\" width=\"100%\" height=\"800\" frameborder=\"0\">\n",
       "      </iframe>\n",
       "      <script>\n",
       "        (function() {\n",
       "          const frame = document.getElementById(\"tensorboard-frame-97f4a4db2752bdd5\");\n",
       "          const url = new URL(\"/\", window.location);\n",
       "          const port = 6006;\n",
       "          if (port) {\n",
       "            url.port = port;\n",
       "          }\n",
       "          frame.src = url;\n",
       "        })();\n",
       "      </script>\n",
       "    "
      ],
      "text/plain": [
       "<IPython.core.display.HTML object>"
      ]
     },
     "metadata": {},
     "output_type": "display_data"
    }
   ],
   "source": [
    "#################### e. Tensorboard outputs #################### \n",
    "\n",
    "%load_ext tensorboard\n",
    "#%reload_ext tensorboard\n",
    "%tensorboard --logdir logs"
   ]
  },
  {
   "cell_type": "markdown",
   "metadata": {},
   "source": [
    "## 5. Model evaluation"
   ]
  },
  {
   "cell_type": "code",
   "execution_count": 182,
   "metadata": {},
   "outputs": [
    {
     "name": "stdout",
     "output_type": "stream",
     "text": [
      "10/10 - 2s - loss: 1.1486 - accuracy: 0.6345\n",
      "loss: 1.149\n",
      "accuracy: 0.635\n"
     ]
    }
   ],
   "source": [
    "#################### a. Overall accuracy and loss ####################\n",
    "\n",
    "results=model.evaluate(valid2.batch(20), verbose=2)\n",
    "\n",
    "for name, value in zip(model.metrics_names, results):\n",
    "  print(\"%s: %.3f\" % (name, value))"
   ]
  },
  {
   "cell_type": "code",
   "execution_count": 183,
   "metadata": {
    "colab": {},
    "colab_type": "code",
    "id": "-nQdChwqbFer"
   },
   "outputs": [
    {
     "name": "stdout",
     "output_type": "stream",
     "text": [
      "              precision    recall  f1-score   support\n",
      "\n",
      "           0       0.72      0.88      0.79        24\n",
      "           1       0.59      0.68      0.63        25\n",
      "           2       0.96      0.59      0.73        37\n",
      "           3       0.95      0.91      0.93        22\n",
      "           4       0.67      0.50      0.57        32\n",
      "           5       0.74      0.58      0.65        24\n",
      "           6       0.24      0.57      0.34        14\n",
      "           7       0.37      0.37      0.37        19\n",
      "\n",
      "    accuracy                           0.63       197\n",
      "   macro avg       0.65      0.64      0.63       197\n",
      "weighted avg       0.70      0.63      0.65       197\n",
      "\n"
     ]
    }
   ],
   "source": [
    "#################### b. Classification report ####################\n",
    "\n",
    "# Get raw data & its target labels\n",
    "validation_data, validation_labels = next(iter(valid2.batch(197)))\n",
    "# Score with model\n",
    "y_pred=model.predict(validation_data)\n",
    "# Get overall performance measures\n",
    "print(classification_report(validation_labels.numpy().argmax(axis=1), y_pred.argmax(axis=1)))"
   ]
  },
  {
   "cell_type": "code",
   "execution_count": 206,
   "metadata": {},
   "outputs": [
    {
     "data": {
      "image/png": "[encoded data removed]",
      "text/plain": [
       "<Figure size 720x576 with 2 Axes>"
      ]
     },
     "metadata": {
      "needs_background": "light"
     },
     "output_type": "display_data"
    }
   ],
   "source": [
    "#################### c. Confusion matrix ####################\n",
    "\n",
    "y_true = validation_labels.numpy().argmax(axis=1)\n",
    "y_pred = y_pred#.argmax(axis=1)\n",
    "\n",
    "labels = ['romantic fiction',\n",
    "          'history',\n",
    "          'sports leisure',\n",
    "          'food drink',\n",
    "          'entertainment',\n",
    "          'spirituality beliefs',\n",
    "          'science technology medicine',\n",
    "          'business finance law']\n",
    "\n",
    "cm = confusion_matrix(y_true, y_pred)\n",
    "# Convert nominal values into percentages (of class)\n",
    "cmp = cm.astype('float') / cm.sum(axis=1)[:, np.newaxis]\n",
    "fig, ax = plt.subplots(figsize=(10,8))\n",
    "plt.rcParams.update({'font.size': 13})\n",
    "sns.heatmap(cmp, annot=True, fmt='.2f', cmap='Blues', xticklabels=labels, yticklabels=labels)\n",
    "plt.ylabel('Actual', size=16)\n",
    "plt.xlabel('Predicted', size=16)\n",
    "plt.show(block=False)"
   ]
  },
  {
   "cell_type": "markdown",
   "metadata": {},
   "source": [
    "## Carpark"
   ]
  },
  {
   "cell_type": "code",
   "execution_count": null,
   "metadata": {},
   "outputs": [],
   "source": [
    "#!pip install tensorboard\n",
    "#!pip show tensorboard\n",
    "#python C:\\Users\\jmd05\\Anaconda3\\Lib\\site-packages\\tensorboard\\main.py --logdir=r'C:\\Users\\jmd05\\Anaconda3\\Lib\\site-packages\\tensorboard\\logs\\fit'"
   ]
  },
  {
   "cell_type": "code",
   "execution_count": null,
   "metadata": {},
   "outputs": [],
   "source": [
    "# This automatically deletes the log directory\n",
    "\n",
    "#import shutil\n",
    "#shutil.rmtree('log_dir', ignore_errors=True)"
   ]
  },
  {
   "cell_type": "code",
   "execution_count": null,
   "metadata": {},
   "outputs": [],
   "source": [
    "#valid['Subject'].value_counts(dropna=False)"
   ]
  }
 ],
 "metadata": {
  "accelerator": "GPU",
  "colab": {
   "authorship_tag": "ABX9TyMgMTEkgjgLBJHYrQheLmp5",
   "include_colab_link": true,
   "name": "Text classification Tensorflow - Multiclass",
   "provenance": []
  },
  "kernelspec": {
   "display_name": "Python 3",
   "language": "python",
   "name": "python3"
  },
  "language_info": {
   "codemirror_mode": {
    "name": "ipython",
    "version": 3
   },
   "file_extension": ".py",
   "mimetype": "text/x-python",
   "name": "python",
   "nbconvert_exporter": "python",
   "pygments_lexer": "ipython3",
   "version": "3.8.5"
  }
 },
 "nbformat": 4,
 "nbformat_minor": 1
}
